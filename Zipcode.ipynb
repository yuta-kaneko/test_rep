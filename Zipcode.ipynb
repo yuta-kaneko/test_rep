{
 "cells": [
  {
   "cell_type": "code",
   "execution_count": 14,
   "metadata": {},
   "outputs": [
    {
     "name": "stdout",
     "output_type": "stream",
     "text": [
      "GETメソッド\n",
      "{'address1': '東京都', 'address2': '千代田区', 'address3': '神田三崎町', 'kana1': 'ﾄｳｷｮｳﾄ', 'kana2': 'ﾁﾖﾀﾞｸ', 'kana3': 'ｶﾝﾀﾞﾐｻｷﾁｮｳ', 'prefcode': '13', 'zipcode': '1010061'}\n",
      "東京都 千代田区 神田三崎町\n",
      "\n",
      "POSTメソッド\n",
      "{'address1': '東京都', 'address2': '千代田区', 'address3': '神田三崎町', 'kana1': 'ﾄｳｷｮｳﾄ', 'kana2': 'ﾁﾖﾀﾞｸ', 'kana3': 'ｶﾝﾀﾞﾐｻｷﾁｮｳ', 'prefcode': '13', 'zipcode': '1010061'}\n",
      "東京都 千代田区 神田三崎町\n"
     ]
    }
   ],
   "source": [
    "import requests\n",
    "\n",
    "print(\"GETメソッド\")\n",
    "response = requests.get(\"https://zipcloud.ibsnet.co.jp/api/search\", params={\"zipcode\": \"1010061\"})\n",
    "address = response.json()[\"results\"][0]\n",
    "print(address)\n",
    "print(address[\"address1\"], address[\"address2\"], address[\"address3\"])\n",
    "\n",
    "print(\"\\nPOSTメソッド\")\n",
    "response = requests.post(\"https://zipcloud.ibsnet.co.jp/api/search\", data={\"zipcode\": \"1010061\"})\n",
    "address = response.json()[\"results\"][0]\n",
    "print(address)\n",
    "print(address[\"address1\"], address[\"address2\"], address[\"address3\"])\n",
    "\n"
   ]
  },
  {
   "cell_type": "code",
   "execution_count": null,
   "metadata": {},
   "outputs": [],
   "source": []
  }
 ],
 "metadata": {
  "kernelspec": {
   "display_name": "Python 3",
   "language": "python",
   "name": "python3"
  },
  "language_info": {
   "codemirror_mode": {
    "name": "ipython",
    "version": 3
   },
   "file_extension": ".py",
   "mimetype": "text/x-python",
   "name": "python",
   "nbconvert_exporter": "python",
   "pygments_lexer": "ipython3",
   "version": "3.7.0"
  }
 },
 "nbformat": 4,
 "nbformat_minor": 4
}
